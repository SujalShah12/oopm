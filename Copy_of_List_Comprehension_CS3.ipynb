{
  "nbformat": 4,
  "nbformat_minor": 0,
  "metadata": {
    "colab": {
      "provenance": [],
      "include_colab_link": true
    },
    "kernelspec": {
      "name": "python3",
      "display_name": "Python 3"
    },
    "language_info": {
      "name": "python"
    }
  },
  "cells": [
    {
      "cell_type": "markdown",
      "metadata": {
        "id": "view-in-github",
        "colab_type": "text"
      },
      "source": [
        "<a href=\"https://colab.research.google.com/github/SujalShah12/oopm/blob/main/Copy_of_List_Comprehension_CS3.ipynb\" target=\"_parent\"><img src=\"https://colab.research.google.com/assets/colab-badge.svg\" alt=\"Open In Colab\"/></a>"
      ]
    },
    {
      "cell_type": "code",
      "source": [
        "x = [i for i in range(15)]\n",
        "x"
      ],
      "metadata": {
        "id": "xokNcbjt5elV",
        "colab": {
          "base_uri": "https://localhost:8080/"
        },
        "outputId": "f6d2273b-7951-40fd-c969-d0d1bef62d13"
      },
      "execution_count": null,
      "outputs": [
        {
          "output_type": "execute_result",
          "data": {
            "text/plain": [
              "[0, 1, 2, 3, 4, 5, 6, 7, 8, 9, 10, 11, 12, 13, 14]"
            ]
          },
          "metadata": {},
          "execution_count": 8
        }
      ]
    },
    {
      "cell_type": "code",
      "source": [
        "a = [4,6,7,3,2]\n",
        "b = [x*2 for x in a if x > 5]"
      ],
      "metadata": {
        "id": "37EPuY6j2vTW"
      },
      "execution_count": null,
      "outputs": []
    },
    {
      "cell_type": "code",
      "source": [
        "my_list = [2, 5, 8, 11, 15]\n",
        "new_list = [x*2 if x < 10 else x+1 for x in my_list]\n",
        "print(new_list)"
      ],
      "metadata": {
        "id": "KzcpXZGu6di7"
      },
      "execution_count": null,
      "outputs": []
    },
    {
      "cell_type": "code",
      "source": [
        "my_list = [i for i in range(1, 30) if i%2==0 if i%5==0]\n",
        "print(my_list)"
      ],
      "metadata": {
        "id": "csY5o9lL6nTD"
      },
      "execution_count": null,
      "outputs": []
    },
    {
      "cell_type": "code",
      "source": [
        "names = ['Ch','Dh','Eh','cb','Tb','Td']\n",
        "new_names = [name for name in names if name.lower().startswith('c')]\n",
        "new_names"
      ],
      "metadata": {
        "id": "sXPcOeYm27yN",
        "colab": {
          "base_uri": "https://localhost:8080/"
        },
        "outputId": "0433fb72-afbb-46c0-d378-e003bec6839c"
      },
      "execution_count": null,
      "outputs": [
        {
          "output_type": "execute_result",
          "data": {
            "text/plain": [
              "['Ch', 'cb']"
            ]
          },
          "metadata": {},
          "execution_count": 10
        }
      ]
    },
    {
      "cell_type": "code",
      "source": [
        "new_list = [num * 2 for num in range(5)]\n",
        "new_list"
      ],
      "metadata": {
        "id": "-XlDO7XA34tf",
        "colab": {
          "base_uri": "https://localhost:8080/"
        },
        "outputId": "07da6c5f-7ee2-490d-cd1e-fb1ef1a3d4e5"
      },
      "execution_count": null,
      "outputs": [
        {
          "output_type": "execute_result",
          "data": {
            "text/plain": [
              "[0, 2, 4, 6, 8]"
            ]
          },
          "metadata": {},
          "execution_count": 12
        }
      ]
    },
    {
      "cell_type": "code",
      "source": [
        "new_list = [num for num in range(50) if  num > 20 and num % 2 == 0]\n",
        "new_list"
      ],
      "metadata": {
        "id": "CErX4Qvj3-rW",
        "colab": {
          "base_uri": "https://localhost:8080/"
        },
        "outputId": "c2a06708-c8cf-423a-cf82-e30652456f77"
      },
      "execution_count": null,
      "outputs": [
        {
          "output_type": "execute_result",
          "data": {
            "text/plain": [
              "[22, 24, 26, 28, 30, 32, 34, 36, 38, 40, 42, 44, 46, 48]"
            ]
          },
          "metadata": {},
          "execution_count": 14
        }
      ]
    },
    {
      "cell_type": "code",
      "source": [
        "fave_language_chars = [letter for letter in \"Python\"]\n",
        "fave_language_chars"
      ],
      "metadata": {
        "id": "z8uvh7m74Fuj",
        "colab": {
          "base_uri": "https://localhost:8080/"
        },
        "outputId": "a8235a09-5aa0-4e4f-bec0-9c42055db31c"
      },
      "execution_count": null,
      "outputs": [
        {
          "output_type": "execute_result",
          "data": {
            "text/plain": [
              "['P', 'y', 't', 'h', 'o', 'n']"
            ]
          },
          "metadata": {},
          "execution_count": 17
        }
      ]
    },
    {
      "cell_type": "code",
      "execution_count": null,
      "metadata": {
        "id": "xoC4UeWtx_Mx",
        "colab": {
          "base_uri": "https://localhost:8080/"
        },
        "outputId": "be67ebe2-8841-48e1-8173-8787aa4f9c51"
      },
      "outputs": [
        {
          "output_type": "execute_result",
          "data": {
            "text/plain": [
              "[7,\n",
              " 14,\n",
              " 21,\n",
              " 28,\n",
              " 35,\n",
              " 42,\n",
              " 49,\n",
              " 56,\n",
              " 63,\n",
              " 70,\n",
              " 77,\n",
              " 84,\n",
              " 91,\n",
              " 98,\n",
              " 105,\n",
              " 112,\n",
              " 119,\n",
              " 126,\n",
              " 133,\n",
              " 140,\n",
              " 147,\n",
              " 154,\n",
              " 161,\n",
              " 168,\n",
              " 175,\n",
              " 182,\n",
              " 189,\n",
              " 196,\n",
              " 203,\n",
              " 210,\n",
              " 217,\n",
              " 224,\n",
              " 231,\n",
              " 238,\n",
              " 245,\n",
              " 252,\n",
              " 259,\n",
              " 266,\n",
              " 273,\n",
              " 280,\n",
              " 287,\n",
              " 294,\n",
              " 301,\n",
              " 308,\n",
              " 315,\n",
              " 322,\n",
              " 329,\n",
              " 336,\n",
              " 343,\n",
              " 350,\n",
              " 357,\n",
              " 364,\n",
              " 371,\n",
              " 378,\n",
              " 385,\n",
              " 392,\n",
              " 399,\n",
              " 406,\n",
              " 413,\n",
              " 420,\n",
              " 427,\n",
              " 434,\n",
              " 441,\n",
              " 448,\n",
              " 455,\n",
              " 462,\n",
              " 469,\n",
              " 476,\n",
              " 483,\n",
              " 490,\n",
              " 497,\n",
              " 504,\n",
              " 511,\n",
              " 518,\n",
              " 525,\n",
              " 532,\n",
              " 539,\n",
              " 546,\n",
              " 553,\n",
              " 560,\n",
              " 567,\n",
              " 574,\n",
              " 581,\n",
              " 588,\n",
              " 595,\n",
              " 602,\n",
              " 609,\n",
              " 616,\n",
              " 623,\n",
              " 630,\n",
              " 637,\n",
              " 644,\n",
              " 651,\n",
              " 658,\n",
              " 665,\n",
              " 672,\n",
              " 679,\n",
              " 686,\n",
              " 693,\n",
              " 700,\n",
              " 707,\n",
              " 714,\n",
              " 721,\n",
              " 728,\n",
              " 735,\n",
              " 742,\n",
              " 749,\n",
              " 756,\n",
              " 763,\n",
              " 770,\n",
              " 777,\n",
              " 784,\n",
              " 791,\n",
              " 798,\n",
              " 805,\n",
              " 812,\n",
              " 819,\n",
              " 826,\n",
              " 833,\n",
              " 840,\n",
              " 847,\n",
              " 854,\n",
              " 861,\n",
              " 868,\n",
              " 875,\n",
              " 882,\n",
              " 889,\n",
              " 896,\n",
              " 903,\n",
              " 910,\n",
              " 917,\n",
              " 924,\n",
              " 931,\n",
              " 938,\n",
              " 945,\n",
              " 952,\n",
              " 959,\n",
              " 966,\n",
              " 973,\n",
              " 980,\n",
              " 987,\n",
              " 994]"
            ]
          },
          "metadata": {},
          "execution_count": 35
        }
      ],
      "source": [
        "# '''\n",
        "# Find all of the numbers from 1-1000 that are divisible by 7\n",
        "# '''\n",
        "x = [num for num in range(1,1001) if num % 7 == 0]\n",
        "x"
      ]
    },
    {
      "cell_type": "code",
      "source": [
        "three = [n for n in range(0,1000) if '3' in str(n)]\n",
        "print(three)"
      ],
      "metadata": {
        "id": "rQkcovqcyQbw",
        "colab": {
          "base_uri": "https://localhost:8080/"
        },
        "outputId": "8e58ebbf-a292-407d-f999-d8382c2eea40"
      },
      "execution_count": null,
      "outputs": [
        {
          "output_type": "stream",
          "name": "stdout",
          "text": [
            "[3, 13, 23, 30, 31, 32, 33, 34, 35, 36, 37, 38, 39, 43, 53, 63, 73, 83, 93, 103, 113, 123, 130, 131, 132, 133, 134, 135, 136, 137, 138, 139, 143, 153, 163, 173, 183, 193, 203, 213, 223, 230, 231, 232, 233, 234, 235, 236, 237, 238, 239, 243, 253, 263, 273, 283, 293, 300, 301, 302, 303, 304, 305, 306, 307, 308, 309, 310, 311, 312, 313, 314, 315, 316, 317, 318, 319, 320, 321, 322, 323, 324, 325, 326, 327, 328, 329, 330, 331, 332, 333, 334, 335, 336, 337, 338, 339, 340, 341, 342, 343, 344, 345, 346, 347, 348, 349, 350, 351, 352, 353, 354, 355, 356, 357, 358, 359, 360, 361, 362, 363, 364, 365, 366, 367, 368, 369, 370, 371, 372, 373, 374, 375, 376, 377, 378, 379, 380, 381, 382, 383, 384, 385, 386, 387, 388, 389, 390, 391, 392, 393, 394, 395, 396, 397, 398, 399, 403, 413, 423, 430, 431, 432, 433, 434, 435, 436, 437, 438, 439, 443, 453, 463, 473, 483, 493, 503, 513, 523, 530, 531, 532, 533, 534, 535, 536, 537, 538, 539, 543, 553, 563, 573, 583, 593, 603, 613, 623, 630, 631, 632, 633, 634, 635, 636, 637, 638, 639, 643, 653, 663, 673, 683, 693, 703, 713, 723, 730, 731, 732, 733, 734, 735, 736, 737, 738, 739, 743, 753, 763, 773, 783, 793, 803, 813, 823, 830, 831, 832, 833, 834, 835, 836, 837, 838, 839, 843, 853, 863, 873, 883, 893, 903, 913, 923, 930, 931, 932, 933, 934, 935, 936, 937, 938, 939, 943, 953, 963, 973, 983, 993]\n"
          ]
        }
      ]
    },
    {
      "cell_type": "code",
      "source": [
        "# '''\n",
        "# Count the number of spaces in a string\n",
        "# '''\n",
        "some_string = 'the slow solid squid swam sumptuously through the slimy swamp'\n",
        "x = [i for i in some_string if i == \" \"]\n",
        "x"
      ],
      "metadata": {
        "id": "gIz_poFJybA0",
        "colab": {
          "base_uri": "https://localhost:8080/"
        },
        "outputId": "80e690e2-53d5-42be-c7bb-5ac52e9293ba"
      },
      "execution_count": null,
      "outputs": [
        {
          "output_type": "execute_result",
          "data": {
            "text/plain": [
              "[' ', ' ', ' ', ' ', ' ', ' ', ' ', ' ', ' ']"
            ]
          },
          "metadata": {},
          "execution_count": 37
        }
      ]
    },
    {
      "cell_type": "code",
      "source": [
        "# '''\n",
        "# Create a list of all the consonants in the string \"Yellow Yaks like yelling and yawning and yesturday they yodled while eating yuky yams\"\n",
        "# '''\n",
        "sentence = \"Yellow Yaks like yelling and yawning and yesturday they yodled while eating yuky yams\"\n",
        "x = [i for i in sentence if i not in \"a, i, e, o, u,  \"]\n",
        "x"
      ],
      "metadata": {
        "id": "PFOkO8c3yoRD",
        "colab": {
          "base_uri": "https://localhost:8080/"
        },
        "outputId": "125135e5-2497-4745-f70f-8c9e1db1e2cf"
      },
      "execution_count": null,
      "outputs": [
        {
          "output_type": "execute_result",
          "data": {
            "text/plain": [
              "['Y',\n",
              " 'l',\n",
              " 'l',\n",
              " 'w',\n",
              " 'Y',\n",
              " 'k',\n",
              " 's',\n",
              " 'l',\n",
              " 'k',\n",
              " 'y',\n",
              " 'l',\n",
              " 'l',\n",
              " 'n',\n",
              " 'g',\n",
              " 'n',\n",
              " 'd',\n",
              " 'y',\n",
              " 'w',\n",
              " 'n',\n",
              " 'n',\n",
              " 'g',\n",
              " 'n',\n",
              " 'd',\n",
              " 'y',\n",
              " 's',\n",
              " 't',\n",
              " 'r',\n",
              " 'd',\n",
              " 'y',\n",
              " 't',\n",
              " 'h',\n",
              " 'y',\n",
              " 'y',\n",
              " 'd',\n",
              " 'l',\n",
              " 'd',\n",
              " 'w',\n",
              " 'h',\n",
              " 'l',\n",
              " 't',\n",
              " 'n',\n",
              " 'g',\n",
              " 'y',\n",
              " 'k',\n",
              " 'y',\n",
              " 'y',\n",
              " 'm',\n",
              " 's']"
            ]
          },
          "metadata": {},
          "execution_count": 38
        }
      ]
    },
    {
      "cell_type": "code",
      "source": [
        "'''\n",
        " Get the index and the value as a tuple for items in the list [\"hi\", 4, 8.99, 'apple', ('t,b','n')].  Result would look like [(index, value), (index, value)]\n",
        " '''\n",
        "items = [\"hi\", 4, 8.99, 'apple', ('t,b','n')]\n",
        "result = [(index, item) for index, item in enumerate(items)]\n",
        "print(result)"
      ],
      "metadata": {
        "id": "b7nRCAHEy1dK",
        "colab": {
          "base_uri": "https://localhost:8080/"
        },
        "outputId": "79650d27-a293-440e-9cb7-dc4ba3e2ad92"
      },
      "execution_count": null,
      "outputs": [
        {
          "output_type": "stream",
          "name": "stdout",
          "text": [
            "[(0, 'hi'), (1, 4), (2, 8.99), (3, 'apple'), (4, ('t,b', 'n'))]\n"
          ]
        }
      ]
    },
    {
      "cell_type": "code",
      "source": [
        "'''\n",
        "Find the common numbers in two lists (without using a tuple or set) list_a = [1, 2, 3, 4], list_b = [2, 3, 4, 5]\n",
        "'''\n",
        "list_a = [1, 2, 3, 4]\n",
        "list_b = [2, 3, 4, 5]\n",
        "common = [a for a in list_a if a in list_b]\n",
        "print(common)"
      ],
      "metadata": {
        "id": "BruGk2mxy6q9",
        "colab": {
          "base_uri": "https://localhost:8080/"
        },
        "outputId": "7c3f91ea-9e3d-4850-a829-ce75e6dcca7c"
      },
      "execution_count": null,
      "outputs": [
        {
          "output_type": "stream",
          "name": "stdout",
          "text": [
            "[2, 3, 4]\n"
          ]
        }
      ]
    },
    {
      "cell_type": "code",
      "source": [
        "'''\n",
        "Get only the numbers in a sentence like 'In 1984 there were 13 instances of a protest with over 1000 people attending'.  Result is a list of numbers like [3,4,5]\n",
        "'''\n",
        "sentence = 'In 1984 there were 13 instances of a protest with over 1000 people attending'\n",
        "words = sentence.split()\n",
        "result = [n for n in words if not n.isalpha() ]\n",
        "result"
      ],
      "metadata": {
        "id": "JU9uVJq2zBVB",
        "colab": {
          "base_uri": "https://localhost:8080/"
        },
        "outputId": "998d086e-d85b-4968-ffbc-4b445dcb3320"
      },
      "execution_count": null,
      "outputs": [
        {
          "output_type": "execute_result",
          "data": {
            "text/plain": [
              "['1984', '13', '1000']"
            ]
          },
          "metadata": {},
          "execution_count": 44
        }
      ]
    },
    {
      "cell_type": "code",
      "source": [
        "'''\n",
        "Produce a list of tuples consisting of only the matching numbers in these lists list_a = [1, 2, 3,4,5,6,7,8,9], list_b = [2, 7, 1, 12].  Result would look like (4,4), (12,12)\n",
        "'''\n",
        "list_a = [1, 2, 3,4,5,6,7,8,9]\n",
        "list_b = [2, 7, 1, 12]\n",
        "\n",
        "result = [(a, b) for a in list_a for b in list_b if a == b]\n",
        "print(result)"
      ],
      "metadata": {
        "id": "lc9rl2Nazz1O",
        "colab": {
          "base_uri": "https://localhost:8080/"
        },
        "outputId": "a2ef036c-a528-4015-c453-b2a39f23a10c"
      },
      "execution_count": null,
      "outputs": [
        {
          "output_type": "stream",
          "name": "stdout",
          "text": [
            "[(1, 1), (2, 2), (7, 7)]\n"
          ]
        }
      ]
    },
    {
      "cell_type": "code",
      "source": [
        "'''Find all of the words in a string that are less than 4 letters'''\n",
        "sentence = 'On a summer day somner smith went simming in the sun and his red skin stung'"
      ],
      "metadata": {
        "id": "Lga5eySb0tJ-"
      },
      "execution_count": null,
      "outputs": []
    }
  ]
}